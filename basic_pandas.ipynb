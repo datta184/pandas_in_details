{
 "cells": [
  {
   "cell_type": "markdown",
   "metadata": {},
   "source": [
    "# what is the pandas"
   ]
  },
  {
   "cell_type": "code",
   "execution_count": null,
   "metadata": {},
   "outputs": [],
   "source": [
    "'''\n",
    "pandas is a open source python library or we can say tool it used to data manipulation\n",
    "\n",
    "it is used for data analysis in python and developed by wess Mckinnyin 2008\n",
    "\n",
    "'''"
   ]
  },
  {
   "cell_type": "code",
   "execution_count": null,
   "metadata": {},
   "outputs": [],
   "source": [
    "'''\n",
    "\n",
    "Benefits of Pandas\n",
    "\n",
    "The benefits of pandas over using other language are as follows:\n",
    "\n",
    "Data Representation: It represents the data in a form that is suited for data analysis through its DataFrame and \n",
    "                     Series.\n",
    "\n",
    "Clear code: The clear API of the Pandas allows you to focus on the core part of the code.\n",
    "            So, it provides clear and concise code for the user.\n",
    "            \n",
    "'''"
   ]
  },
  {
   "cell_type": "markdown",
   "metadata": {},
   "source": [
    "# How to install pandas"
   ]
  },
  {
   "cell_type": "code",
   "execution_count": null,
   "metadata": {},
   "outputs": [],
   "source": [
    "'''\n",
    "In windows press + r or open commond prompt type the command 'pip install pandas'\n",
    "\n",
    "In linux simply open terminal by pressing 'crtl + alt + t' and write the command 'pip install pandas'\n",
    "\n",
    "In jupyter notebook simply write ! pip install pandas\n",
    "\n",
    "'''"
   ]
  },
  {
   "cell_type": "markdown",
   "metadata": {},
   "source": [
    "# Python pandas data structure"
   ]
  },
  {
   "cell_type": "markdown",
   "metadata": {},
   "source": [
    "## pandas provide two data structure for proccessing data structure \n",
    "### 1.series and 2.DataFrame"
   ]
  },
  {
   "cell_type": "markdown",
   "metadata": {},
   "source": [
    "# 1.Series"
   ]
  },
  {
   "cell_type": "markdown",
   "metadata": {},
   "source": [
    "* It is defined as a one-dimensional array that is capable of storing various data types.  "
   ]
  },
  {
   "cell_type": "markdown",
   "metadata": {},
   "source": [
    "* A Series cannot contain multiple columns. It has one parameter:----> (like 1-D arraywe can say)"
   ]
  },
  {
   "cell_type": "markdown",
   "metadata": {},
   "source": [
    "* The row labels of series are called the index. We can easily convert the list, tuple, \n",
    "and dictionary into series using \"series' method"
   ]
  },
  {
   "cell_type": "code",
   "execution_count": 3,
   "metadata": {},
   "outputs": [
    {
     "name": "stdout",
     "output_type": "stream",
     "text": [
      "0    p\n",
      "1    a\n",
      "2    n\n",
      "3    d\n",
      "4    a\n",
      "dtype: object\n"
     ]
    }
   ],
   "source": [
    "import pandas as pd\n",
    "import numpy as np\n",
    "\n",
    "l = np.array(['p','a','n','d','a'])\n",
    "\n",
    "cn = pd.Series(l)\n",
    "\n",
    "print(cn)"
   ]
  },
  {
   "cell_type": "code",
   "execution_count": 11,
   "metadata": {},
   "outputs": [
    {
     "name": "stdout",
     "output_type": "stream",
     "text": [
      "p\n",
      "\n",
      "**********\n",
      "0    p\n",
      "1    a\n",
      "2    n\n",
      "dtype: object\n"
     ]
    }
   ],
   "source": [
    "# accessing particalar location value\n",
    "\n",
    "print(cn[0])\n",
    "print(\"\\n**********\")\n",
    "print(cn[0:3])\n"
   ]
  },
  {
   "cell_type": "code",
   "execution_count": 28,
   "metadata": {},
   "outputs": [
    {
     "name": "stdout",
     "output_type": "stream",
     "text": [
      "    0\n",
      "0  10\n",
      "1  20\n",
      "2  30\n",
      "3  40\n",
      "4  50\n",
      "**************************ACCESSING THE ELEMENT OF PDLST*******************\n",
      "    0\n",
      "0  10\n",
      "1  20\n"
     ]
    }
   ],
   "source": [
    "# lets see another example \n",
    "lst = [10,20,30,40,50]\n",
    "pdlst = pd.DataFrame(lst)\n",
    "\n",
    "print(pdlst)\n",
    "\n",
    "print(\"**************************ACCESSING THE ELEMENT OF PDLST*******************\")\n",
    "\n",
    "print(pdlst[0:2])"
   ]
  },
  {
   "cell_type": "markdown",
   "metadata": {},
   "source": [
    "# 2.DataFrame"
   ]
  },
  {
   "cell_type": "markdown",
   "metadata": {},
   "source": [
    " * it is used for work with two-D array with row and coloumn (axix)"
   ]
  },
  {
   "cell_type": "markdown",
   "metadata": {},
   "source": [
    "* columns can be heterogeneous types like int, bool,"
   ]
  },
  {
   "cell_type": "markdown",
   "metadata": {},
   "source": [
    "* It can be seen as a dictionary of Series structure where both the rows and columns are indexed"
   ]
  },
  {
   "cell_type": "code",
   "execution_count": 12,
   "metadata": {},
   "outputs": [
    {
     "name": "stdout",
     "output_type": "stream",
     "text": [
      "        0\n",
      "0  python\n",
      "1   numpy\n",
      "2  pandas\n"
     ]
    }
   ],
   "source": [
    "# creating dataframe using list\n",
    "\n",
    "x = [\"python\",\"numpy\",\"pandas\"]\n",
    "y = pd.DataFrame(x)\n",
    "\n",
    "print(y)"
   ]
  },
  {
   "cell_type": "code",
   "execution_count": 23,
   "metadata": {},
   "outputs": [
    {
     "name": "stdout",
     "output_type": "stream",
     "text": [
      "           0          1          2\n",
      "0     python      numpy     pandas\n",
      "1  version_1  version_3  version_5\n",
      "\n",
      "***********************************\n",
      "ACCESSING ELEMENT\n",
      "***********************************\n",
      "0        numpy\n",
      "1    version_3\n",
      "Name: 1, dtype: object\n"
     ]
    }
   ],
   "source": [
    "# Even we can add list in list lets see\n",
    "\n",
    "l1 = [[\"python\",\"numpy\",\"pandas\"],[\"version_1\",\"version_3\",\"version_5\"]]\n",
    "con = pd.DataFrame(l1)\n",
    "\n",
    "print(con)\n",
    "\n",
    "print(\"\\n***********************************\")\n",
    "print(\"ACCESSING ELEMENT\")\n",
    "print(\"***********************************\")\n",
    "\n",
    "print(con[1])"
   ]
  },
  {
   "cell_type": "code",
   "execution_count": null,
   "metadata": {},
   "outputs": [],
   "source": []
  }
 ],
 "metadata": {
  "kernelspec": {
   "display_name": "Python 3",
   "language": "python",
   "name": "python3"
  },
  "language_info": {
   "codemirror_mode": {
    "name": "ipython",
    "version": 3
   },
   "file_extension": ".py",
   "mimetype": "text/x-python",
   "name": "python",
   "nbconvert_exporter": "python",
   "pygments_lexer": "ipython3",
   "version": "3.8.10"
  }
 },
 "nbformat": 4,
 "nbformat_minor": 4
}
