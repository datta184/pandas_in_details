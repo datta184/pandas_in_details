{
 "cells": [
  {
   "cell_type": "markdown",
   "metadata": {},
   "source": [
    "# Pandas Series.values_count()"
   ]
  },
  {
   "cell_type": "code",
   "execution_count": 2,
   "metadata": {},
   "outputs": [
    {
     "data": {
      "text/plain": [
       "'\\n\\nthe value count function return the series that contain count of unique value \\nOR\\nin a simple word how many time each character or string or number occured\\nOR \\noccurence of each items\\n\\n\\n'"
      ]
     },
     "execution_count": 2,
     "metadata": {},
     "output_type": "execute_result"
    }
   ],
   "source": [
    "'''\n",
    "\n",
    "the value count function return the series that contain count of unique value \n",
    "OR\n",
    "in a simple word how many time each character or string or number occured\n",
    "OR \n",
    "occurence of each items\n",
    "\n",
    "\n",
    "'''"
   ]
  },
  {
   "cell_type": "code",
   "execution_count": 1,
   "metadata": {},
   "outputs": [],
   "source": [
    "# importing essentials\n",
    "import pandas as pd \n",
    "import numpy as np\n",
    "\n"
   ]
  },
  {
   "cell_type": "code",
   "execution_count": 19,
   "metadata": {},
   "outputs": [
    {
     "data": {
      "text/html": [
       "<div>\n",
       "<style scoped>\n",
       "    .dataframe tbody tr th:only-of-type {\n",
       "        vertical-align: middle;\n",
       "    }\n",
       "\n",
       "    .dataframe tbody tr th {\n",
       "        vertical-align: top;\n",
       "    }\n",
       "\n",
       "    .dataframe thead th {\n",
       "        text-align: right;\n",
       "    }\n",
       "</style>\n",
       "<table border=\"1\" class=\"dataframe\">\n",
       "  <thead>\n",
       "    <tr style=\"text-align: right;\">\n",
       "      <th></th>\n",
       "      <th>Name</th>\n",
       "      <th>Type</th>\n",
       "      <th>AvgBill</th>\n",
       "    </tr>\n",
       "  </thead>\n",
       "  <tbody>\n",
       "    <tr>\n",
       "      <th>0</th>\n",
       "      <td>The market</td>\n",
       "      <td>restorent</td>\n",
       "      <td>1999</td>\n",
       "    </tr>\n",
       "    <tr>\n",
       "      <th>1</th>\n",
       "      <td>ukiyo</td>\n",
       "      <td>restorent</td>\n",
       "      <td>1559</td>\n",
       "    </tr>\n",
       "    <tr>\n",
       "      <th>2</th>\n",
       "      <td>The bharkhana</td>\n",
       "      <td>Bar</td>\n",
       "      <td>1300</td>\n",
       "    </tr>\n",
       "    <tr>\n",
       "      <th>3</th>\n",
       "      <td>paasha</td>\n",
       "      <td>restorent</td>\n",
       "      <td>1600</td>\n",
       "    </tr>\n",
       "    <tr>\n",
       "      <th>4</th>\n",
       "      <td>bird valley</td>\n",
       "      <td>Bar</td>\n",
       "      <td>1200</td>\n",
       "    </tr>\n",
       "    <tr>\n",
       "      <th>5</th>\n",
       "      <td>Betos</td>\n",
       "      <td>Bar</td>\n",
       "      <td>1500</td>\n",
       "    </tr>\n",
       "    <tr>\n",
       "      <th>6</th>\n",
       "      <td>ukiyo</td>\n",
       "      <td>restorent</td>\n",
       "      <td>1559</td>\n",
       "    </tr>\n",
       "    <tr>\n",
       "      <th>7</th>\n",
       "      <td>thikana</td>\n",
       "      <td>Bar</td>\n",
       "      <td>1300</td>\n",
       "    </tr>\n",
       "    <tr>\n",
       "      <th>8</th>\n",
       "      <td>Aasmana</td>\n",
       "      <td>restorent</td>\n",
       "      <td>1111</td>\n",
       "    </tr>\n",
       "    <tr>\n",
       "      <th>9</th>\n",
       "      <td>The market</td>\n",
       "      <td>restorent</td>\n",
       "      <td>1999</td>\n",
       "    </tr>\n",
       "    <tr>\n",
       "      <th>10</th>\n",
       "      <td>bird valley</td>\n",
       "      <td>Bar</td>\n",
       "      <td>1200</td>\n",
       "    </tr>\n",
       "    <tr>\n",
       "      <th>11</th>\n",
       "      <td>ukiyo</td>\n",
       "      <td>restorent</td>\n",
       "      <td>1559</td>\n",
       "    </tr>\n",
       "    <tr>\n",
       "      <th>12</th>\n",
       "      <td>linkin barrel</td>\n",
       "      <td>Bar</td>\n",
       "      <td>800</td>\n",
       "    </tr>\n",
       "    <tr>\n",
       "      <th>13</th>\n",
       "      <td>spice kitchen</td>\n",
       "      <td>restorent</td>\n",
       "      <td>1199</td>\n",
       "    </tr>\n",
       "    <tr>\n",
       "      <th>14</th>\n",
       "      <td>alto vino</td>\n",
       "      <td>restorent</td>\n",
       "      <td>1000</td>\n",
       "    </tr>\n",
       "    <tr>\n",
       "      <th>15</th>\n",
       "      <td>publiq</td>\n",
       "      <td>Bar</td>\n",
       "      <td>1499</td>\n",
       "    </tr>\n",
       "    <tr>\n",
       "      <th>16</th>\n",
       "      <td>The market</td>\n",
       "      <td>restorent</td>\n",
       "      <td>1999</td>\n",
       "    </tr>\n",
       "    <tr>\n",
       "      <th>17</th>\n",
       "      <td>spice kitchen</td>\n",
       "      <td>restorent</td>\n",
       "      <td>1199</td>\n",
       "    </tr>\n",
       "    <tr>\n",
       "      <th>18</th>\n",
       "      <td>cafe blue</td>\n",
       "      <td>restorent</td>\n",
       "      <td>1129</td>\n",
       "    </tr>\n",
       "    <tr>\n",
       "      <th>19</th>\n",
       "      <td>publiq</td>\n",
       "      <td>Bar</td>\n",
       "      <td>1499</td>\n",
       "    </tr>\n",
       "    <tr>\n",
       "      <th>20</th>\n",
       "      <td>Aasmana</td>\n",
       "      <td>restorent</td>\n",
       "      <td>1111</td>\n",
       "    </tr>\n",
       "  </tbody>\n",
       "</table>\n",
       "</div>"
      ],
      "text/plain": [
       "             Name       Type  AvgBill\n",
       "0      The market  restorent     1999\n",
       "1           ukiyo  restorent     1559\n",
       "2   The bharkhana        Bar     1300\n",
       "3          paasha  restorent     1600\n",
       "4     bird valley        Bar     1200\n",
       "5           Betos        Bar     1500\n",
       "6           ukiyo  restorent     1559\n",
       "7         thikana        Bar     1300\n",
       "8         Aasmana  restorent     1111\n",
       "9      The market  restorent     1999\n",
       "10    bird valley        Bar     1200\n",
       "11          ukiyo  restorent     1559\n",
       "12  linkin barrel        Bar      800\n",
       "13  spice kitchen  restorent     1199\n",
       "14      alto vino  restorent     1000\n",
       "15         publiq        Bar     1499\n",
       "16     The market  restorent     1999\n",
       "17  spice kitchen  restorent     1199\n",
       "18      cafe blue  restorent     1129\n",
       "19         publiq        Bar     1499\n",
       "20        Aasmana  restorent     1111"
      ]
     },
     "execution_count": 19,
     "metadata": {},
     "output_type": "execute_result"
    }
   ],
   "source": [
    "# lets take an exaple of top 7 restorent and bar in pune and thier avrage bill\n",
    "data = pd.DataFrame(\n",
    "                    [('The market','restorent',1999),\n",
    "                     ('ukiyo','restorent',1559),\n",
    "                     ('The bharkhana','Bar',1300),\n",
    "                     ('paasha','restorent',1600),\n",
    "                     ('bird valley','Bar',1200),\n",
    "                     ('Betos','Bar',1500),\n",
    "                     ('ukiyo','restorent',1559),\n",
    "                     ('thikana','Bar',1300),\n",
    "                     ('Aasmana','restorent',1111),\n",
    "                     ('The market','restorent',1999),\n",
    "                     ('bird valley','Bar',1200),\n",
    "                     ('ukiyo','restorent',1559),\n",
    "                     ('linkin barrel','Bar',800),\n",
    "                     ('spice kitchen','restorent',1199),\n",
    "                     ('alto vino','restorent',1000),\n",
    "                     ('publiq','Bar',1499),\n",
    "                     ('The market','restorent',1999),\n",
    "                     ('spice kitchen','restorent',1199),\n",
    "                     ('cafe blue','restorent',1129),\n",
    "                     ('publiq','Bar',1499),\n",
    "                     ('Aasmana','restorent',1111)],\n",
    "                    \n",
    "                    columns=('Name','Type','AvgBill')\n",
    "                   )\n",
    "data"
   ]
  },
  {
   "cell_type": "code",
   "execution_count": 20,
   "metadata": {},
   "outputs": [
    {
     "data": {
      "text/plain": [
       "The market       3\n",
       "ukiyo            3\n",
       "bird valley      2\n",
       "Aasmana          2\n",
       "spice kitchen    2\n",
       "publiq           2\n",
       "The bharkhana    1\n",
       "paasha           1\n",
       "Betos            1\n",
       "thikana          1\n",
       "linkin barrel    1\n",
       "alto vino        1\n",
       "cafe blue        1\n",
       "Name: Name, dtype: int64"
      ]
     },
     "execution_count": 20,
     "metadata": {},
     "output_type": "execute_result"
    }
   ],
   "source": [
    "# counting the frequency of unique value in series\n",
    "data['Name'].value_counts()"
   ]
  },
  {
   "cell_type": "code",
   "execution_count": 21,
   "metadata": {},
   "outputs": [
    {
     "data": {
      "text/plain": [
       "The bharkhana    1\n",
       "paasha           1\n",
       "Betos            1\n",
       "thikana          1\n",
       "linkin barrel    1\n",
       "alto vino        1\n",
       "cafe blue        1\n",
       "bird valley      2\n",
       "Aasmana          2\n",
       "spice kitchen    2\n",
       "publiq           2\n",
       "The market       3\n",
       "ukiyo            3\n",
       "Name: Name, dtype: int64"
      ]
     },
     "execution_count": 21,
     "metadata": {},
     "output_type": "execute_result"
    }
   ],
   "source": [
    "# tacking them in assendening order\n",
    "data['Name'].value_counts(ascending=True)"
   ]
  },
  {
   "cell_type": "markdown",
   "metadata": {},
   "source": [
    "## Counting relative frequency of unique values in a series (normalizing)"
   ]
  },
  {
   "cell_type": "markdown",
   "metadata": {},
   "source": [
    "### if we dodn't want to get the count of each unique value, but rather see how frequent each value appears \n",
    "### compared to the whole series. In order to do this, we'll set normalize=True"
   ]
  },
  {
   "cell_type": "code",
   "execution_count": 22,
   "metadata": {},
   "outputs": [
    {
     "data": {
      "text/plain": [
       "The market       0.142857\n",
       "ukiyo            0.142857\n",
       "bird valley      0.095238\n",
       "Aasmana          0.095238\n",
       "spice kitchen    0.095238\n",
       "publiq           0.095238\n",
       "The bharkhana    0.047619\n",
       "paasha           0.047619\n",
       "Betos            0.047619\n",
       "thikana          0.047619\n",
       "linkin barrel    0.047619\n",
       "alto vino        0.047619\n",
       "cafe blue        0.047619\n",
       "Name: Name, dtype: float64"
      ]
     },
     "execution_count": 22,
     "metadata": {},
     "output_type": "execute_result"
    }
   ],
   "source": [
    "data['Name'].value_counts(normalize=True)"
   ]
  },
  {
   "cell_type": "code",
   "execution_count": null,
   "metadata": {},
   "outputs": [],
   "source": []
  }
 ],
 "metadata": {
  "kernelspec": {
   "display_name": "Python 3",
   "language": "python",
   "name": "python3"
  },
  "language_info": {
   "codemirror_mode": {
    "name": "ipython",
    "version": 3
   },
   "file_extension": ".py",
   "mimetype": "text/x-python",
   "name": "python",
   "nbconvert_exporter": "python",
   "pygments_lexer": "ipython3",
   "version": "3.8.10"
  }
 },
 "nbformat": 4,
 "nbformat_minor": 4
}
