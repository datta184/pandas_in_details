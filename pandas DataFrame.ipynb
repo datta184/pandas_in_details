{
 "cells": [
  {
   "cell_type": "markdown",
   "metadata": {},
   "source": [
    "# python pandas dataframe"
   ]
  },
  {
   "cell_type": "code",
   "execution_count": null,
   "metadata": {},
   "outputs": [],
   "source": [
    "'''\n",
    "pandas dataframe is a widely used dadta structure which work with  two diamentional array with labled axis\n",
    "\n",
    "DataFrame is defined as a standard way to store data that has two different indexes i.e row and colomn\n",
    "\n",
    "\n",
    "\n",
    "\n",
    "'''"
   ]
  },
  {
   "cell_type": "markdown",
   "metadata": {},
   "source": [
    "## we can create datafeame using fallowing way"
   ]
  },
  {
   "cell_type": "markdown",
   "metadata": {},
   "source": [
    "### 1.dict\n",
    "###    2.list\n",
    "###     3.numpy ndarrays\n",
    " ###     4.series"
   ]
  },
  {
   "cell_type": "code",
   "execution_count": null,
   "metadata": {},
   "outputs": [],
   "source": [
    "# creaating an empty dataframe\n",
    "import pandas as pd\n",
    "df = pd.DataFrame()\n",
    "print(df)"
   ]
  },
  {
   "cell_type": "code",
   "execution_count": null,
   "metadata": {},
   "outputs": [],
   "source": [
    "# creating a dataframe using the list\n",
    "\n",
    "#creasting a string list \n",
    "l = [\"hello\",\"hi\"]\n",
    "\n",
    "# calling dataframe constructure on list\n",
    "df_list = pd.DataFrame(l)\n",
    "\n",
    "print(df_list)\n"
   ]
  },
  {
   "cell_type": "code",
   "execution_count": null,
   "metadata": {},
   "outputs": [],
   "source": [
    "# creating a dataframe using list and dictionary \n",
    "\n",
    "info = {\"name\":[\"datta\",\"rahul\",\"nitin\",\"saurabh\"],\"roll_no\":[100,200,300,400]}\n",
    "\n",
    "data = pd.DataFrame(info)\n",
    "\n",
    "print(data)"
   ]
  },
  {
   "cell_type": "code",
   "execution_count": null,
   "metadata": {},
   "outputs": [],
   "source": [
    "# creating a dataframe using the dictiomnary of series\n",
    "\n",
    "d = {'one':pd.Series([10,20,30,40,50,60],index=['a','b','c','d','e','f']),\n",
    "    'two':pd.Series([11,22,33,44,55,66,77,88],index=['a','b','c','d','e','f','h','g'])}\n",
    "\n",
    "result = pd.DataFrame(d)\n",
    "\n",
    "print(result)"
   ]
  },
  {
   "cell_type": "markdown",
   "metadata": {},
   "source": [
    "#### particulaar colomn selection"
   ]
  },
  {
   "cell_type": "code",
   "execution_count": null,
   "metadata": {},
   "outputs": [],
   "source": [
    "print(result['one'])"
   ]
  },
  {
   "cell_type": "markdown",
   "metadata": {},
   "source": [
    "#### addition of colomn"
   ]
  },
  {
   "cell_type": "code",
   "execution_count": 11,
   "metadata": {},
   "outputs": [
    {
     "data": {
      "text/plain": [
       "a     21.0\n",
       "b     42.0\n",
       "c     63.0\n",
       "d     84.0\n",
       "e    105.0\n",
       "f    126.0\n",
       "g      NaN\n",
       "h      NaN\n",
       "dtype: float64"
      ]
     },
     "execution_count": 11,
     "metadata": {},
     "output_type": "execute_result"
    }
   ],
   "source": [
    "add = result['one']+result['two']\n",
    "add"
   ]
  },
  {
   "cell_type": "code",
   "execution_count": null,
   "metadata": {},
   "outputs": [],
   "source": []
  }
 ],
 "metadata": {
  "kernelspec": {
   "display_name": "Python 3",
   "language": "python",
   "name": "python3"
  },
  "language_info": {
   "codemirror_mode": {
    "name": "ipython",
    "version": 3
   },
   "file_extension": ".py",
   "mimetype": "text/x-python",
   "name": "python",
   "nbconvert_exporter": "python",
   "pygments_lexer": "ipython3",
   "version": "3.8.10"
  }
 },
 "nbformat": 4,
 "nbformat_minor": 4
}
